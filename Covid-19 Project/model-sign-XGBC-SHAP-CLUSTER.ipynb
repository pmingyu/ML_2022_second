{
 "cells": [
  {
   "cell_type": "code",
   "execution_count": 1,
   "id": "5d670809",
   "metadata": {
    "ExecuteTime": {
     "end_time": "2022-12-08T09:41:31.498601Z",
     "start_time": "2022-12-08T09:41:30.812512Z"
    }
   },
   "outputs": [
    {
     "name": "stdout",
     "output_type": "stream",
     "text": [
      "Thu Dec  8 09:41:31 2022       \n",
      "+-----------------------------------------------------------------------------+\n",
      "| NVIDIA-SMI 460.27.04    Driver Version: 460.27.04    CUDA Version: 11.2     |\n",
      "|-------------------------------+----------------------+----------------------+\n",
      "| GPU  Name        Persistence-M| Bus-Id        Disp.A | Volatile Uncorr. ECC |\n",
      "| Fan  Temp  Perf  Pwr:Usage/Cap|         Memory-Usage | GPU-Util  Compute M. |\n",
      "|                               |                      |               MIG M. |\n",
      "|===============================+======================+======================|\n",
      "|   0  GeForce RTX 208...  Off  | 00000000:3B:00.0 Off |                  N/A |\n",
      "| 30%   29C    P8     3W / 250W |   7408MiB / 11019MiB |      0%      Default |\n",
      "|                               |                      |                  N/A |\n",
      "+-------------------------------+----------------------+----------------------+\n",
      "|   1  GeForce RTX 208...  Off  | 00000000:5E:00.0 Off |                  N/A |\n",
      "| 30%   26C    P8     1W / 250W |   6518MiB / 11019MiB |      0%      Default |\n",
      "|                               |                      |                  N/A |\n",
      "+-------------------------------+----------------------+----------------------+\n",
      "|   2  GeForce RTX 208...  Off  | 00000000:AF:00.0 Off |                  N/A |\n",
      "| 30%   28C    P8    20W / 250W |    332MiB / 11019MiB |      0%      Default |\n",
      "|                               |                      |                  N/A |\n",
      "+-------------------------------+----------------------+----------------------+\n",
      "|   3  GeForce RTX 208...  Off  | 00000000:D8:00.0 Off |                  N/A |\n",
      "| 30%   29C    P8     2W / 250W |    332MiB / 11019MiB |      0%      Default |\n",
      "|                               |                      |                  N/A |\n",
      "+-------------------------------+----------------------+----------------------+\n",
      "                                                                               \n",
      "+-----------------------------------------------------------------------------+\n",
      "| Processes:                                                                  |\n",
      "|  GPU   GI   CI        PID   Type   Process name                  GPU Memory |\n",
      "|        ID   ID                                                   Usage      |\n",
      "|=============================================================================|\n",
      "|    1   N/A  N/A     80526      C   /opt/conda/bin/python            3093MiB |\n",
      "+-----------------------------------------------------------------------------+\n"
     ]
    }
   ],
   "source": [
    "!nvidia-smi"
   ]
  },
  {
   "cell_type": "code",
   "execution_count": 2,
   "id": "918361c1",
   "metadata": {
    "ExecuteTime": {
     "end_time": "2022-12-08T09:41:41.346112Z",
     "start_time": "2022-12-08T09:41:41.340338Z"
    }
   },
   "outputs": [],
   "source": [
    "import os\n",
    "os.environ[\"CUDA_VISIBLE_DEVICES\"] = \"0\""
   ]
  },
  {
   "cell_type": "code",
   "execution_count": 19,
   "id": "24311be5",
   "metadata": {
    "ExecuteTime": {
     "end_time": "2022-12-08T09:46:48.535221Z",
     "start_time": "2022-12-08T09:46:48.520567Z"
    }
   },
   "outputs": [],
   "source": [
    "# import needed libraries\n",
    "import numpy as np\n",
    "import pandas as pd\n",
    "import tensorflow as tf\n",
    "from sklearn.model_selection import train_test_split\n",
    "from sklearn.preprocessing import LabelEncoder\n",
    "from tensorflow.keras import Sequential\n",
    "from tensorflow.keras.layers import Dense\n",
    "from tensorflow.keras.callbacks import EarlyStopping\n",
    "from tensorflow.keras.layers import Dropout\n",
    "from sklearn import svm\n",
    "from sklearn.linear_model import LogisticRegression\n",
    "import seaborn as sns\n",
    "import matplotlib.pyplot as plt\n",
    "from sklearn.metrics import accuracy_score\n",
    "from sklearn.metrics import precision_score\n",
    "from sklearn.metrics import recall_score\n",
    "from sklearn.metrics import f1_score\n",
    "from sklearn.metrics import confusion_matrix\n",
    "\n",
    "from sklearn.cluster import KMeans, AgglomerativeClustering\n",
    "from scipy.cluster import hierarchy\n",
    "from sklearn.metrics import silhouette_score"
   ]
  },
  {
   "cell_type": "code",
   "execution_count": 4,
   "id": "322841b9",
   "metadata": {
    "ExecuteTime": {
     "end_time": "2022-12-08T09:42:02.147570Z",
     "start_time": "2022-12-08T09:42:02.099548Z"
    }
   },
   "outputs": [
    {
     "data": {
      "text/html": [
       "<div>\n",
       "<style scoped>\n",
       "    .dataframe tbody tr th:only-of-type {\n",
       "        vertical-align: middle;\n",
       "    }\n",
       "\n",
       "    .dataframe tbody tr th {\n",
       "        vertical-align: top;\n",
       "    }\n",
       "\n",
       "    .dataframe thead th {\n",
       "        text-align: right;\n",
       "    }\n",
       "</style>\n",
       "<table border=\"1\" class=\"dataframe\">\n",
       "  <thead>\n",
       "    <tr style=\"text-align: right;\">\n",
       "      <th></th>\n",
       "      <th>Breathing Problem</th>\n",
       "      <th>Fever</th>\n",
       "      <th>Dry Cough</th>\n",
       "      <th>Sore throat</th>\n",
       "      <th>Running Nose</th>\n",
       "      <th>Asthma</th>\n",
       "      <th>Chronic Lung Disease</th>\n",
       "      <th>Headache</th>\n",
       "      <th>Heart Disease</th>\n",
       "      <th>Diabetes</th>\n",
       "      <th>Hyper Tension</th>\n",
       "      <th>Fatigue</th>\n",
       "      <th>Gastrointestinal</th>\n",
       "      <th>Abroad travel</th>\n",
       "      <th>Contact with COVID Patient</th>\n",
       "      <th>Attended Large Gathering</th>\n",
       "      <th>Visited Public Exposed Places</th>\n",
       "      <th>Family working in Public Exposed Places</th>\n",
       "      <th>Wearing Masks</th>\n",
       "      <th>COVID-19</th>\n",
       "    </tr>\n",
       "  </thead>\n",
       "  <tbody>\n",
       "    <tr>\n",
       "      <th>0</th>\n",
       "      <td>1</td>\n",
       "      <td>1</td>\n",
       "      <td>1</td>\n",
       "      <td>1</td>\n",
       "      <td>1</td>\n",
       "      <td>0</td>\n",
       "      <td>0</td>\n",
       "      <td>0</td>\n",
       "      <td>0</td>\n",
       "      <td>1</td>\n",
       "      <td>1</td>\n",
       "      <td>1</td>\n",
       "      <td>1</td>\n",
       "      <td>0</td>\n",
       "      <td>1</td>\n",
       "      <td>0</td>\n",
       "      <td>1</td>\n",
       "      <td>1</td>\n",
       "      <td>0</td>\n",
       "      <td>Yes</td>\n",
       "    </tr>\n",
       "    <tr>\n",
       "      <th>1</th>\n",
       "      <td>1</td>\n",
       "      <td>1</td>\n",
       "      <td>1</td>\n",
       "      <td>1</td>\n",
       "      <td>0</td>\n",
       "      <td>1</td>\n",
       "      <td>1</td>\n",
       "      <td>1</td>\n",
       "      <td>0</td>\n",
       "      <td>0</td>\n",
       "      <td>0</td>\n",
       "      <td>1</td>\n",
       "      <td>0</td>\n",
       "      <td>0</td>\n",
       "      <td>0</td>\n",
       "      <td>1</td>\n",
       "      <td>1</td>\n",
       "      <td>0</td>\n",
       "      <td>0</td>\n",
       "      <td>Yes</td>\n",
       "    </tr>\n",
       "    <tr>\n",
       "      <th>2</th>\n",
       "      <td>1</td>\n",
       "      <td>1</td>\n",
       "      <td>1</td>\n",
       "      <td>1</td>\n",
       "      <td>1</td>\n",
       "      <td>1</td>\n",
       "      <td>1</td>\n",
       "      <td>1</td>\n",
       "      <td>0</td>\n",
       "      <td>1</td>\n",
       "      <td>0</td>\n",
       "      <td>1</td>\n",
       "      <td>1</td>\n",
       "      <td>1</td>\n",
       "      <td>0</td>\n",
       "      <td>0</td>\n",
       "      <td>0</td>\n",
       "      <td>0</td>\n",
       "      <td>0</td>\n",
       "      <td>Yes</td>\n",
       "    </tr>\n",
       "    <tr>\n",
       "      <th>3</th>\n",
       "      <td>1</td>\n",
       "      <td>1</td>\n",
       "      <td>1</td>\n",
       "      <td>0</td>\n",
       "      <td>0</td>\n",
       "      <td>1</td>\n",
       "      <td>0</td>\n",
       "      <td>0</td>\n",
       "      <td>1</td>\n",
       "      <td>1</td>\n",
       "      <td>0</td>\n",
       "      <td>0</td>\n",
       "      <td>0</td>\n",
       "      <td>1</td>\n",
       "      <td>0</td>\n",
       "      <td>1</td>\n",
       "      <td>1</td>\n",
       "      <td>0</td>\n",
       "      <td>0</td>\n",
       "      <td>Yes</td>\n",
       "    </tr>\n",
       "    <tr>\n",
       "      <th>4</th>\n",
       "      <td>1</td>\n",
       "      <td>1</td>\n",
       "      <td>1</td>\n",
       "      <td>1</td>\n",
       "      <td>1</td>\n",
       "      <td>0</td>\n",
       "      <td>1</td>\n",
       "      <td>1</td>\n",
       "      <td>1</td>\n",
       "      <td>1</td>\n",
       "      <td>1</td>\n",
       "      <td>0</td>\n",
       "      <td>1</td>\n",
       "      <td>0</td>\n",
       "      <td>1</td>\n",
       "      <td>0</td>\n",
       "      <td>1</td>\n",
       "      <td>0</td>\n",
       "      <td>0</td>\n",
       "      <td>Yes</td>\n",
       "    </tr>\n",
       "    <tr>\n",
       "      <th>...</th>\n",
       "      <td>...</td>\n",
       "      <td>...</td>\n",
       "      <td>...</td>\n",
       "      <td>...</td>\n",
       "      <td>...</td>\n",
       "      <td>...</td>\n",
       "      <td>...</td>\n",
       "      <td>...</td>\n",
       "      <td>...</td>\n",
       "      <td>...</td>\n",
       "      <td>...</td>\n",
       "      <td>...</td>\n",
       "      <td>...</td>\n",
       "      <td>...</td>\n",
       "      <td>...</td>\n",
       "      <td>...</td>\n",
       "      <td>...</td>\n",
       "      <td>...</td>\n",
       "      <td>...</td>\n",
       "      <td>...</td>\n",
       "    </tr>\n",
       "    <tr>\n",
       "      <th>5429</th>\n",
       "      <td>1</td>\n",
       "      <td>1</td>\n",
       "      <td>0</td>\n",
       "      <td>1</td>\n",
       "      <td>1</td>\n",
       "      <td>1</td>\n",
       "      <td>1</td>\n",
       "      <td>0</td>\n",
       "      <td>0</td>\n",
       "      <td>0</td>\n",
       "      <td>0</td>\n",
       "      <td>1</td>\n",
       "      <td>1</td>\n",
       "      <td>0</td>\n",
       "      <td>0</td>\n",
       "      <td>0</td>\n",
       "      <td>0</td>\n",
       "      <td>0</td>\n",
       "      <td>0</td>\n",
       "      <td>Yes</td>\n",
       "    </tr>\n",
       "    <tr>\n",
       "      <th>5430</th>\n",
       "      <td>1</td>\n",
       "      <td>1</td>\n",
       "      <td>1</td>\n",
       "      <td>0</td>\n",
       "      <td>1</td>\n",
       "      <td>1</td>\n",
       "      <td>0</td>\n",
       "      <td>1</td>\n",
       "      <td>0</td>\n",
       "      <td>1</td>\n",
       "      <td>1</td>\n",
       "      <td>1</td>\n",
       "      <td>0</td>\n",
       "      <td>0</td>\n",
       "      <td>0</td>\n",
       "      <td>0</td>\n",
       "      <td>0</td>\n",
       "      <td>0</td>\n",
       "      <td>0</td>\n",
       "      <td>Yes</td>\n",
       "    </tr>\n",
       "    <tr>\n",
       "      <th>5431</th>\n",
       "      <td>1</td>\n",
       "      <td>1</td>\n",
       "      <td>1</td>\n",
       "      <td>0</td>\n",
       "      <td>0</td>\n",
       "      <td>0</td>\n",
       "      <td>0</td>\n",
       "      <td>0</td>\n",
       "      <td>1</td>\n",
       "      <td>0</td>\n",
       "      <td>1</td>\n",
       "      <td>0</td>\n",
       "      <td>0</td>\n",
       "      <td>0</td>\n",
       "      <td>0</td>\n",
       "      <td>0</td>\n",
       "      <td>0</td>\n",
       "      <td>0</td>\n",
       "      <td>0</td>\n",
       "      <td>No</td>\n",
       "    </tr>\n",
       "    <tr>\n",
       "      <th>5432</th>\n",
       "      <td>1</td>\n",
       "      <td>1</td>\n",
       "      <td>1</td>\n",
       "      <td>0</td>\n",
       "      <td>1</td>\n",
       "      <td>0</td>\n",
       "      <td>0</td>\n",
       "      <td>1</td>\n",
       "      <td>1</td>\n",
       "      <td>0</td>\n",
       "      <td>0</td>\n",
       "      <td>0</td>\n",
       "      <td>0</td>\n",
       "      <td>0</td>\n",
       "      <td>0</td>\n",
       "      <td>0</td>\n",
       "      <td>0</td>\n",
       "      <td>0</td>\n",
       "      <td>0</td>\n",
       "      <td>No</td>\n",
       "    </tr>\n",
       "    <tr>\n",
       "      <th>5433</th>\n",
       "      <td>1</td>\n",
       "      <td>1</td>\n",
       "      <td>1</td>\n",
       "      <td>0</td>\n",
       "      <td>1</td>\n",
       "      <td>1</td>\n",
       "      <td>0</td>\n",
       "      <td>1</td>\n",
       "      <td>0</td>\n",
       "      <td>1</td>\n",
       "      <td>1</td>\n",
       "      <td>1</td>\n",
       "      <td>0</td>\n",
       "      <td>0</td>\n",
       "      <td>0</td>\n",
       "      <td>0</td>\n",
       "      <td>0</td>\n",
       "      <td>0</td>\n",
       "      <td>0</td>\n",
       "      <td>No</td>\n",
       "    </tr>\n",
       "  </tbody>\n",
       "</table>\n",
       "<p>5434 rows × 20 columns</p>\n",
       "</div>"
      ],
      "text/plain": [
       "      Breathing Problem  Fever  Dry Cough  Sore throat  Running Nose  Asthma  \\\n",
       "0                     1      1          1            1             1       0   \n",
       "1                     1      1          1            1             0       1   \n",
       "2                     1      1          1            1             1       1   \n",
       "3                     1      1          1            0             0       1   \n",
       "4                     1      1          1            1             1       0   \n",
       "...                 ...    ...        ...          ...           ...     ...   \n",
       "5429                  1      1          0            1             1       1   \n",
       "5430                  1      1          1            0             1       1   \n",
       "5431                  1      1          1            0             0       0   \n",
       "5432                  1      1          1            0             1       0   \n",
       "5433                  1      1          1            0             1       1   \n",
       "\n",
       "      Chronic Lung Disease  Headache  Heart Disease  Diabetes  Hyper Tension  \\\n",
       "0                        0         0              0         1              1   \n",
       "1                        1         1              0         0              0   \n",
       "2                        1         1              0         1              0   \n",
       "3                        0         0              1         1              0   \n",
       "4                        1         1              1         1              1   \n",
       "...                    ...       ...            ...       ...            ...   \n",
       "5429                     1         0              0         0              0   \n",
       "5430                     0         1              0         1              1   \n",
       "5431                     0         0              1         0              1   \n",
       "5432                     0         1              1         0              0   \n",
       "5433                     0         1              0         1              1   \n",
       "\n",
       "      Fatigue   Gastrointestinal   Abroad travel  Contact with COVID Patient  \\\n",
       "0            1                  1              0                           1   \n",
       "1            1                  0              0                           0   \n",
       "2            1                  1              1                           0   \n",
       "3            0                  0              1                           0   \n",
       "4            0                  1              0                           1   \n",
       "...        ...                ...            ...                         ...   \n",
       "5429         1                  1              0                           0   \n",
       "5430         1                  0              0                           0   \n",
       "5431         0                  0              0                           0   \n",
       "5432         0                  0              0                           0   \n",
       "5433         1                  0              0                           0   \n",
       "\n",
       "      Attended Large Gathering  Visited Public Exposed Places  \\\n",
       "0                            0                              1   \n",
       "1                            1                              1   \n",
       "2                            0                              0   \n",
       "3                            1                              1   \n",
       "4                            0                              1   \n",
       "...                        ...                            ...   \n",
       "5429                         0                              0   \n",
       "5430                         0                              0   \n",
       "5431                         0                              0   \n",
       "5432                         0                              0   \n",
       "5433                         0                              0   \n",
       "\n",
       "      Family working in Public Exposed Places  Wearing Masks COVID-19  \n",
       "0                                           1              0      Yes  \n",
       "1                                           0              0      Yes  \n",
       "2                                           0              0      Yes  \n",
       "3                                           0              0      Yes  \n",
       "4                                           0              0      Yes  \n",
       "...                                       ...            ...      ...  \n",
       "5429                                        0              0      Yes  \n",
       "5430                                        0              0      Yes  \n",
       "5431                                        0              0       No  \n",
       "5432                                        0              0       No  \n",
       "5433                                        0              0       No  \n",
       "\n",
       "[5434 rows x 20 columns]"
      ]
     },
     "execution_count": 4,
     "metadata": {},
     "output_type": "execute_result"
    }
   ],
   "source": [
    "sign_data_set = pd.read_csv(\"model-sign-dataset_cleaned_.csv\")\n",
    "sign_data_set"
   ]
  },
  {
   "cell_type": "code",
   "execution_count": 5,
   "id": "64ff8397",
   "metadata": {
    "ExecuteTime": {
     "end_time": "2022-12-08T09:42:12.721201Z",
     "start_time": "2022-12-08T09:42:12.698318Z"
    }
   },
   "outputs": [
    {
     "name": "stdout",
     "output_type": "stream",
     "text": [
      "<class 'pandas.core.frame.DataFrame'>\n",
      "RangeIndex: 5434 entries, 0 to 5433\n",
      "Data columns (total 20 columns):\n",
      " #   Column                                   Non-Null Count  Dtype \n",
      "---  ------                                   --------------  ----- \n",
      " 0   Breathing Problem                        5434 non-null   int64 \n",
      " 1   Fever                                    5434 non-null   int64 \n",
      " 2   Dry Cough                                5434 non-null   int64 \n",
      " 3   Sore throat                              5434 non-null   int64 \n",
      " 4   Running Nose                             5434 non-null   int64 \n",
      " 5   Asthma                                   5434 non-null   int64 \n",
      " 6   Chronic Lung Disease                     5434 non-null   int64 \n",
      " 7   Headache                                 5434 non-null   int64 \n",
      " 8   Heart Disease                            5434 non-null   int64 \n",
      " 9   Diabetes                                 5434 non-null   int64 \n",
      " 10  Hyper Tension                            5434 non-null   int64 \n",
      " 11  Fatigue                                  5434 non-null   int64 \n",
      " 12  Gastrointestinal                         5434 non-null   int64 \n",
      " 13  Abroad travel                            5434 non-null   int64 \n",
      " 14  Contact with COVID Patient               5434 non-null   int64 \n",
      " 15  Attended Large Gathering                 5434 non-null   int64 \n",
      " 16  Visited Public Exposed Places            5434 non-null   int64 \n",
      " 17  Family working in Public Exposed Places  5434 non-null   int64 \n",
      " 18  Wearing Masks                            5434 non-null   int64 \n",
      " 19  COVID-19                                 5434 non-null   object\n",
      "dtypes: int64(19), object(1)\n",
      "memory usage: 849.2+ KB\n"
     ]
    }
   ],
   "source": [
    "sign_data_set.info()"
   ]
  },
  {
   "cell_type": "code",
   "execution_count": 6,
   "id": "6f4cf779",
   "metadata": {
    "ExecuteTime": {
     "end_time": "2022-12-08T09:42:22.945370Z",
     "start_time": "2022-12-08T09:42:22.931195Z"
    }
   },
   "outputs": [],
   "source": [
    "# Extract Independet variables\n",
    "sign_x = sign_data_set.iloc[:, :-1].values\n",
    "\n",
    "# Extract the Dependet variable\n",
    "sign_y = sign_data_set['COVID-19'].values\n",
    "\n",
    "# Incode the ouput data (dependent variable)\n",
    "labelencoder_y= LabelEncoder()\n",
    "sign_y = labelencoder_y.fit_transform(sign_y) "
   ]
  },
  {
   "cell_type": "code",
   "execution_count": 7,
   "id": "9cf0bc45",
   "metadata": {
    "ExecuteTime": {
     "end_time": "2022-12-08T09:42:26.622177Z",
     "start_time": "2022-12-08T09:42:26.614327Z"
    }
   },
   "outputs": [],
   "source": [
    "# split the dataset into traning and validation sets\n",
    "sign_Xtrain, sign_Xtest, sign_Ytrain, sign_Ytest= train_test_split(sign_x, sign_y, test_size= 0.15)"
   ]
  },
  {
   "cell_type": "code",
   "execution_count": 8,
   "id": "9c910d46",
   "metadata": {
    "ExecuteTime": {
     "end_time": "2022-12-08T09:42:31.245402Z",
     "start_time": "2022-12-08T09:42:31.239543Z"
    }
   },
   "outputs": [],
   "source": [
    "# convert input datasets of traning and testing to float32 for numpy operations\n",
    "sign_Xtrain, sign_Xtest = np.array(sign_Xtrain, np.float32), np.array(sign_Xtest, np.float32)"
   ]
  },
  {
   "cell_type": "code",
   "execution_count": 9,
   "id": "03da54a2",
   "metadata": {
    "ExecuteTime": {
     "end_time": "2022-12-08T09:42:35.471962Z",
     "start_time": "2022-12-08T09:42:35.464173Z"
    }
   },
   "outputs": [
    {
     "data": {
      "text/plain": [
       "(4618, 19)"
      ]
     },
     "execution_count": 9,
     "metadata": {},
     "output_type": "execute_result"
    }
   ],
   "source": [
    "sign_Xtrain.shape"
   ]
  },
  {
   "cell_type": "code",
   "execution_count": 10,
   "id": "5e27be07",
   "metadata": {
    "ExecuteTime": {
     "end_time": "2022-12-08T09:44:15.462288Z",
     "start_time": "2022-12-08T09:42:42.425460Z"
    }
   },
   "outputs": [
    {
     "name": "stderr",
     "output_type": "stream",
     "text": [
      "/opt/conda/lib/python3.8/site-packages/xgboost/sklearn.py:1224: UserWarning: The use of label encoder in XGBClassifier is deprecated and will be removed in a future release. To remove this warning, do the following: 1) Pass option use_label_encoder=False when constructing XGBClassifier object; and 2) Encode your labels (y) as integers starting with 0, i.e. 0, 1, 2, ..., [num_class - 1].\n",
      "  warnings.warn(label_encoder_deprecation_msg, UserWarning)\n"
     ]
    },
    {
     "name": "stdout",
     "output_type": "stream",
     "text": [
      "[09:42:44] WARNING: ../src/learner.cc:1115: Starting in XGBoost 1.3.0, the default evaluation metric used with the objective 'binary:logistic' was changed from 'error' to 'logloss'. Explicitly set eval_metric if you'd like to restore the old behavior.\n",
      "\n",
      "Train Accurecy Score - 0.9820268514508446\n",
      "              precision    recall  f1-score   support\n",
      "\n",
      "           0       0.94      0.97      0.95       905\n",
      "           1       0.99      0.99      0.99      3713\n",
      "\n",
      "    accuracy                           0.98      4618\n",
      "   macro avg       0.97      0.98      0.97      4618\n",
      "weighted avg       0.98      0.98      0.98      4618\n",
      "\n",
      "\n",
      "Test Accurecy Score - 0.9865196078431373\n",
      "              precision    recall  f1-score   support\n",
      "\n",
      "           0       0.97      0.95      0.96       146\n",
      "           1       0.99      0.99      0.99       670\n",
      "\n",
      "    accuracy                           0.99       816\n",
      "   macro avg       0.98      0.97      0.98       816\n",
      "weighted avg       0.99      0.99      0.99       816\n",
      "\n",
      "\n"
     ]
    }
   ],
   "source": [
    "from xgboost import XGBClassifier\n",
    "from sklearn.metrics import classification_report, accuracy_score\n",
    "\n",
    "XGBC = XGBClassifier(random_state=101)\n",
    "XGBC.fit(sign_Xtrain,sign_Ytrain)\n",
    "\n",
    "XGBC_prediction_train = XGBC.predict(sign_Xtrain)\n",
    "XGBC_prediction_test  = XGBC.predict(sign_Xtest)\n",
    "print()\n",
    "print(\"Train Accurecy Score - \" + str(accuracy_score(sign_Ytrain,XGBC_prediction_train)))\n",
    "print(classification_report(sign_Ytrain,XGBC_prediction_train))\n",
    "print()\n",
    "print(\"Test Accurecy Score - \" + str(accuracy_score(sign_Ytest,XGBC_prediction_test)))\n",
    "print(classification_report(sign_Ytest,XGBC_prediction_test))\n",
    "print()\n"
   ]
  },
  {
   "cell_type": "code",
   "execution_count": 47,
   "id": "acbd605d",
   "metadata": {
    "ExecuteTime": {
     "end_time": "2022-12-08T10:05:48.729781Z",
     "start_time": "2022-12-08T10:05:48.721713Z"
    }
   },
   "outputs": [
    {
     "data": {
      "text/plain": [
       "5434"
      ]
     },
     "execution_count": 47,
     "metadata": {},
     "output_type": "execute_result"
    }
   ],
   "source": [
    "len(sign_x)"
   ]
  },
  {
   "cell_type": "code",
   "execution_count": 12,
   "id": "75bcaf1c",
   "metadata": {
    "ExecuteTime": {
     "end_time": "2022-12-08T09:44:35.791720Z",
     "start_time": "2022-12-08T09:44:20.534886Z"
    }
   },
   "outputs": [
    {
     "name": "stderr",
     "output_type": "stream",
     "text": [
      " 95%|=================== | 5151/5434 [00:15<00:00]       "
     ]
    }
   ],
   "source": [
    "import shap\n",
    "# compute SHAP values\n",
    "XGBC_explainer = shap.TreeExplainer(XGBC, sign_x)\n",
    "XGBC_shap_values = XGBC_explainer.shap_values(sign_x,check_additivity=True)"
   ]
  },
  {
   "cell_type": "code",
   "execution_count": null,
   "id": "cceb832a",
   "metadata": {},
   "outputs": [],
   "source": []
  },
  {
   "cell_type": "code",
   "execution_count": 40,
   "id": "3d8e5f81",
   "metadata": {
    "ExecuteTime": {
     "end_time": "2022-12-08T09:59:31.102472Z",
     "start_time": "2022-12-08T09:59:30.148786Z"
    }
   },
   "outputs": [
    {
     "name": "stderr",
     "output_type": "stream",
     "text": [
      "`distplot` is a deprecated function and will be removed in a future version. Please adapt your code to use either `displot` (a figure-level function with similar flexibility) or `histplot` (an axes-level function for histograms).\n"
     ]
    },
    {
     "data": {
      "image/png": "[encoded data removed]",
      "text/plain": [
       "<Figure size 864x648 with 1 Axes>"
      ]
     },
     "metadata": {
      "needs_background": "light"
     },
     "output_type": "display_data"
    }
   ],
   "source": [
    "plt.rcParams[\"figure.figsize\"] = (12,9)\n",
    "sns.distplot(XGBC_shap_values)\n",
    "plt.show()"
   ]
  },
  {
   "cell_type": "code",
   "execution_count": 41,
   "id": "318e9439",
   "metadata": {
    "ExecuteTime": {
     "end_time": "2022-12-08T10:00:08.707007Z",
     "start_time": "2022-12-08T10:00:08.698145Z"
    }
   },
   "outputs": [
    {
     "data": {
      "text/plain": [
       "4.764647284601815"
      ]
     },
     "execution_count": 41,
     "metadata": {},
     "output_type": "execute_result"
    }
   ],
   "source": [
    "XGBC_shap_values.max()"
   ]
  },
  {
   "cell_type": "code",
   "execution_count": 42,
   "id": "30056e53",
   "metadata": {
    "ExecuteTime": {
     "end_time": "2022-12-08T10:00:09.964533Z",
     "start_time": "2022-12-08T10:00:09.955728Z"
    }
   },
   "outputs": [
    {
     "data": {
      "text/plain": [
       "0.008176748208209341"
      ]
     },
     "execution_count": 42,
     "metadata": {},
     "output_type": "execute_result"
    }
   ],
   "source": [
    "XGBC_shap_values.mean()"
   ]
  },
  {
   "cell_type": "code",
   "execution_count": 43,
   "id": "a9c3c6be",
   "metadata": {
    "ExecuteTime": {
     "end_time": "2022-12-08T10:00:11.030782Z",
     "start_time": "2022-12-08T10:00:11.022077Z"
    }
   },
   "outputs": [
    {
     "data": {
      "text/plain": [
       "-4.328760245478771"
      ]
     },
     "execution_count": 43,
     "metadata": {},
     "output_type": "execute_result"
    }
   ],
   "source": [
    "XGBC_shap_values.min()"
   ]
  },
  {
   "cell_type": "code",
   "execution_count": 13,
   "id": "7ecc2d41",
   "metadata": {
    "ExecuteTime": {
     "end_time": "2022-12-08T09:44:35.800476Z",
     "start_time": "2022-12-08T09:44:35.794419Z"
    }
   },
   "outputs": [],
   "source": [
    "XGBC_dfShap = pd.DataFrame(XGBC_shap_values,columns=sign_data_set.iloc[:, :-1].columns,index=sign_data_set.index)\n",
    "\n",
    "XGBC_dfShap_temp = XGBC_dfShap[:].copy()"
   ]
  },
  {
   "cell_type": "code",
   "execution_count": 14,
   "id": "4933f935",
   "metadata": {
    "ExecuteTime": {
     "end_time": "2022-12-08T09:44:35.835217Z",
     "start_time": "2022-12-08T09:44:35.802291Z"
    }
   },
   "outputs": [
    {
     "data": {
      "text/html": [
       "<div>\n",
       "<style scoped>\n",
       "    .dataframe tbody tr th:only-of-type {\n",
       "        vertical-align: middle;\n",
       "    }\n",
       "\n",
       "    .dataframe tbody tr th {\n",
       "        vertical-align: top;\n",
       "    }\n",
       "\n",
       "    .dataframe thead th {\n",
       "        text-align: right;\n",
       "    }\n",
       "</style>\n",
       "<table border=\"1\" class=\"dataframe\">\n",
       "  <thead>\n",
       "    <tr style=\"text-align: right;\">\n",
       "      <th></th>\n",
       "      <th>Breathing Problem</th>\n",
       "      <th>Fever</th>\n",
       "      <th>Dry Cough</th>\n",
       "      <th>Sore throat</th>\n",
       "      <th>Running Nose</th>\n",
       "      <th>Asthma</th>\n",
       "      <th>Chronic Lung Disease</th>\n",
       "      <th>Headache</th>\n",
       "      <th>Heart Disease</th>\n",
       "      <th>Diabetes</th>\n",
       "      <th>Hyper Tension</th>\n",
       "      <th>Fatigue</th>\n",
       "      <th>Gastrointestinal</th>\n",
       "      <th>Abroad travel</th>\n",
       "      <th>Contact with COVID Patient</th>\n",
       "      <th>Attended Large Gathering</th>\n",
       "      <th>Visited Public Exposed Places</th>\n",
       "      <th>Family working in Public Exposed Places</th>\n",
       "      <th>Wearing Masks</th>\n",
       "    </tr>\n",
       "  </thead>\n",
       "  <tbody>\n",
       "    <tr>\n",
       "      <th>0</th>\n",
       "      <td>0.896573</td>\n",
       "      <td>0.633475</td>\n",
       "      <td>0.671194</td>\n",
       "      <td>0.739993</td>\n",
       "      <td>-0.241841</td>\n",
       "      <td>0.228861</td>\n",
       "      <td>-0.066498</td>\n",
       "      <td>0.055035</td>\n",
       "      <td>0.352905</td>\n",
       "      <td>0.360132</td>\n",
       "      <td>0.068703</td>\n",
       "      <td>-0.112743</td>\n",
       "      <td>0.076096</td>\n",
       "      <td>-0.966125</td>\n",
       "      <td>1.084288</td>\n",
       "      <td>-1.175722</td>\n",
       "      <td>-0.010479</td>\n",
       "      <td>1.079362</td>\n",
       "      <td>0.0</td>\n",
       "    </tr>\n",
       "    <tr>\n",
       "      <th>1</th>\n",
       "      <td>1.164092</td>\n",
       "      <td>0.619528</td>\n",
       "      <td>0.477567</td>\n",
       "      <td>0.553612</td>\n",
       "      <td>0.517164</td>\n",
       "      <td>0.132143</td>\n",
       "      <td>-0.000601</td>\n",
       "      <td>-0.017298</td>\n",
       "      <td>0.092658</td>\n",
       "      <td>-0.070783</td>\n",
       "      <td>0.297484</td>\n",
       "      <td>-0.028308</td>\n",
       "      <td>0.017217</td>\n",
       "      <td>-0.619645</td>\n",
       "      <td>-0.219501</td>\n",
       "      <td>2.138653</td>\n",
       "      <td>0.030599</td>\n",
       "      <td>-0.160031</td>\n",
       "      <td>0.0</td>\n",
       "    </tr>\n",
       "    <tr>\n",
       "      <th>2</th>\n",
       "      <td>0.890194</td>\n",
       "      <td>0.471624</td>\n",
       "      <td>0.565871</td>\n",
       "      <td>0.410680</td>\n",
       "      <td>-0.345459</td>\n",
       "      <td>-0.169352</td>\n",
       "      <td>0.069881</td>\n",
       "      <td>0.037141</td>\n",
       "      <td>0.011283</td>\n",
       "      <td>0.150048</td>\n",
       "      <td>0.170977</td>\n",
       "      <td>-0.042419</td>\n",
       "      <td>0.051941</td>\n",
       "      <td>2.745147</td>\n",
       "      <td>-0.313658</td>\n",
       "      <td>-0.964485</td>\n",
       "      <td>0.032844</td>\n",
       "      <td>-0.434014</td>\n",
       "      <td>0.0</td>\n",
       "    </tr>\n",
       "    <tr>\n",
       "      <th>3</th>\n",
       "      <td>0.840690</td>\n",
       "      <td>0.326465</td>\n",
       "      <td>0.432122</td>\n",
       "      <td>-1.164142</td>\n",
       "      <td>0.272832</td>\n",
       "      <td>0.182989</td>\n",
       "      <td>0.034890</td>\n",
       "      <td>-0.059914</td>\n",
       "      <td>-0.131512</td>\n",
       "      <td>0.127670</td>\n",
       "      <td>0.178232</td>\n",
       "      <td>0.009431</td>\n",
       "      <td>-0.007346</td>\n",
       "      <td>1.906693</td>\n",
       "      <td>-0.364323</td>\n",
       "      <td>1.586107</td>\n",
       "      <td>-0.014385</td>\n",
       "      <td>-0.156530</td>\n",
       "      <td>0.0</td>\n",
       "    </tr>\n",
       "    <tr>\n",
       "      <th>4</th>\n",
       "      <td>0.783881</td>\n",
       "      <td>0.474715</td>\n",
       "      <td>0.616392</td>\n",
       "      <td>0.623525</td>\n",
       "      <td>-0.411805</td>\n",
       "      <td>0.184230</td>\n",
       "      <td>0.293464</td>\n",
       "      <td>0.002865</td>\n",
       "      <td>-0.264756</td>\n",
       "      <td>0.319569</td>\n",
       "      <td>-0.245387</td>\n",
       "      <td>0.013857</td>\n",
       "      <td>0.225503</td>\n",
       "      <td>-1.159280</td>\n",
       "      <td>1.253397</td>\n",
       "      <td>-1.601364</td>\n",
       "      <td>0.124986</td>\n",
       "      <td>-0.553273</td>\n",
       "      <td>0.0</td>\n",
       "    </tr>\n",
       "    <tr>\n",
       "      <th>...</th>\n",
       "      <td>...</td>\n",
       "      <td>...</td>\n",
       "      <td>...</td>\n",
       "      <td>...</td>\n",
       "      <td>...</td>\n",
       "      <td>...</td>\n",
       "      <td>...</td>\n",
       "      <td>...</td>\n",
       "      <td>...</td>\n",
       "      <td>...</td>\n",
       "      <td>...</td>\n",
       "      <td>...</td>\n",
       "      <td>...</td>\n",
       "      <td>...</td>\n",
       "      <td>...</td>\n",
       "      <td>...</td>\n",
       "      <td>...</td>\n",
       "      <td>...</td>\n",
       "      <td>...</td>\n",
       "    </tr>\n",
       "    <tr>\n",
       "      <th>5429</th>\n",
       "      <td>1.721259</td>\n",
       "      <td>0.458548</td>\n",
       "      <td>-2.345930</td>\n",
       "      <td>0.725785</td>\n",
       "      <td>-0.753009</td>\n",
       "      <td>-0.103050</td>\n",
       "      <td>0.194205</td>\n",
       "      <td>-0.172078</td>\n",
       "      <td>-0.046297</td>\n",
       "      <td>-0.021497</td>\n",
       "      <td>0.118694</td>\n",
       "      <td>-0.194591</td>\n",
       "      <td>-0.056182</td>\n",
       "      <td>-1.890075</td>\n",
       "      <td>-0.680469</td>\n",
       "      <td>-2.285292</td>\n",
       "      <td>-0.106553</td>\n",
       "      <td>-0.992657</td>\n",
       "      <td>0.0</td>\n",
       "    </tr>\n",
       "    <tr>\n",
       "      <th>5430</th>\n",
       "      <td>1.577461</td>\n",
       "      <td>0.646450</td>\n",
       "      <td>0.713984</td>\n",
       "      <td>-1.790544</td>\n",
       "      <td>-0.723698</td>\n",
       "      <td>-0.146258</td>\n",
       "      <td>-0.077227</td>\n",
       "      <td>-0.132904</td>\n",
       "      <td>0.270022</td>\n",
       "      <td>0.166135</td>\n",
       "      <td>-0.301467</td>\n",
       "      <td>-0.061674</td>\n",
       "      <td>-0.317980</td>\n",
       "      <td>-2.096818</td>\n",
       "      <td>-0.882260</td>\n",
       "      <td>-2.404266</td>\n",
       "      <td>-0.100967</td>\n",
       "      <td>-0.745760</td>\n",
       "      <td>0.0</td>\n",
       "    </tr>\n",
       "    <tr>\n",
       "      <th>5431</th>\n",
       "      <td>1.499542</td>\n",
       "      <td>0.664811</td>\n",
       "      <td>0.615980</td>\n",
       "      <td>-1.874885</td>\n",
       "      <td>0.433157</td>\n",
       "      <td>-0.032545</td>\n",
       "      <td>0.017241</td>\n",
       "      <td>-0.315137</td>\n",
       "      <td>-0.663526</td>\n",
       "      <td>-0.132047</td>\n",
       "      <td>-0.150005</td>\n",
       "      <td>-0.012708</td>\n",
       "      <td>-0.392554</td>\n",
       "      <td>-2.088710</td>\n",
       "      <td>-0.929238</td>\n",
       "      <td>-2.381812</td>\n",
       "      <td>0.036047</td>\n",
       "      <td>-0.632870</td>\n",
       "      <td>0.0</td>\n",
       "    </tr>\n",
       "    <tr>\n",
       "      <th>5432</th>\n",
       "      <td>1.474495</td>\n",
       "      <td>0.721266</td>\n",
       "      <td>0.670233</td>\n",
       "      <td>-1.920654</td>\n",
       "      <td>-0.490332</td>\n",
       "      <td>-0.093656</td>\n",
       "      <td>-0.033893</td>\n",
       "      <td>0.093694</td>\n",
       "      <td>-0.248406</td>\n",
       "      <td>-0.094140</td>\n",
       "      <td>0.196351</td>\n",
       "      <td>0.016818</td>\n",
       "      <td>-0.425067</td>\n",
       "      <td>-2.107843</td>\n",
       "      <td>-0.872587</td>\n",
       "      <td>-2.466196</td>\n",
       "      <td>0.032698</td>\n",
       "      <td>-0.685942</td>\n",
       "      <td>0.0</td>\n",
       "    </tr>\n",
       "    <tr>\n",
       "      <th>5433</th>\n",
       "      <td>1.577461</td>\n",
       "      <td>0.646450</td>\n",
       "      <td>0.713984</td>\n",
       "      <td>-1.790544</td>\n",
       "      <td>-0.723698</td>\n",
       "      <td>-0.146258</td>\n",
       "      <td>-0.077227</td>\n",
       "      <td>-0.132904</td>\n",
       "      <td>0.270022</td>\n",
       "      <td>0.166135</td>\n",
       "      <td>-0.301467</td>\n",
       "      <td>-0.061674</td>\n",
       "      <td>-0.317980</td>\n",
       "      <td>-2.096818</td>\n",
       "      <td>-0.882260</td>\n",
       "      <td>-2.404266</td>\n",
       "      <td>-0.100967</td>\n",
       "      <td>-0.745760</td>\n",
       "      <td>0.0</td>\n",
       "    </tr>\n",
       "  </tbody>\n",
       "</table>\n",
       "<p>5434 rows × 19 columns</p>\n",
       "</div>"
      ],
      "text/plain": [
       "      Breathing Problem     Fever  Dry Cough  Sore throat  Running Nose  \\\n",
       "0              0.896573  0.633475   0.671194     0.739993     -0.241841   \n",
       "1              1.164092  0.619528   0.477567     0.553612      0.517164   \n",
       "2              0.890194  0.471624   0.565871     0.410680     -0.345459   \n",
       "3              0.840690  0.326465   0.432122    -1.164142      0.272832   \n",
       "4              0.783881  0.474715   0.616392     0.623525     -0.411805   \n",
       "...                 ...       ...        ...          ...           ...   \n",
       "5429           1.721259  0.458548  -2.345930     0.725785     -0.753009   \n",
       "5430           1.577461  0.646450   0.713984    -1.790544     -0.723698   \n",
       "5431           1.499542  0.664811   0.615980    -1.874885      0.433157   \n",
       "5432           1.474495  0.721266   0.670233    -1.920654     -0.490332   \n",
       "5433           1.577461  0.646450   0.713984    -1.790544     -0.723698   \n",
       "\n",
       "        Asthma  Chronic Lung Disease  Headache  Heart Disease  Diabetes  \\\n",
       "0     0.228861             -0.066498  0.055035       0.352905  0.360132   \n",
       "1     0.132143             -0.000601 -0.017298       0.092658 -0.070783   \n",
       "2    -0.169352              0.069881  0.037141       0.011283  0.150048   \n",
       "3     0.182989              0.034890 -0.059914      -0.131512  0.127670   \n",
       "4     0.184230              0.293464  0.002865      -0.264756  0.319569   \n",
       "...        ...                   ...       ...            ...       ...   \n",
       "5429 -0.103050              0.194205 -0.172078      -0.046297 -0.021497   \n",
       "5430 -0.146258             -0.077227 -0.132904       0.270022  0.166135   \n",
       "5431 -0.032545              0.017241 -0.315137      -0.663526 -0.132047   \n",
       "5432 -0.093656             -0.033893  0.093694      -0.248406 -0.094140   \n",
       "5433 -0.146258             -0.077227 -0.132904       0.270022  0.166135   \n",
       "\n",
       "      Hyper Tension  Fatigue   Gastrointestinal   Abroad travel  \\\n",
       "0          0.068703 -0.112743           0.076096      -0.966125   \n",
       "1          0.297484 -0.028308           0.017217      -0.619645   \n",
       "2          0.170977 -0.042419           0.051941       2.745147   \n",
       "3          0.178232  0.009431          -0.007346       1.906693   \n",
       "4         -0.245387  0.013857           0.225503      -1.159280   \n",
       "...             ...       ...                ...            ...   \n",
       "5429       0.118694 -0.194591          -0.056182      -1.890075   \n",
       "5430      -0.301467 -0.061674          -0.317980      -2.096818   \n",
       "5431      -0.150005 -0.012708          -0.392554      -2.088710   \n",
       "5432       0.196351  0.016818          -0.425067      -2.107843   \n",
       "5433      -0.301467 -0.061674          -0.317980      -2.096818   \n",
       "\n",
       "      Contact with COVID Patient  Attended Large Gathering  \\\n",
       "0                       1.084288                 -1.175722   \n",
       "1                      -0.219501                  2.138653   \n",
       "2                      -0.313658                 -0.964485   \n",
       "3                      -0.364323                  1.586107   \n",
       "4                       1.253397                 -1.601364   \n",
       "...                          ...                       ...   \n",
       "5429                   -0.680469                 -2.285292   \n",
       "5430                   -0.882260                 -2.404266   \n",
       "5431                   -0.929238                 -2.381812   \n",
       "5432                   -0.872587                 -2.466196   \n",
       "5433                   -0.882260                 -2.404266   \n",
       "\n",
       "      Visited Public Exposed Places  Family working in Public Exposed Places  \\\n",
       "0                         -0.010479                                 1.079362   \n",
       "1                          0.030599                                -0.160031   \n",
       "2                          0.032844                                -0.434014   \n",
       "3                         -0.014385                                -0.156530   \n",
       "4                          0.124986                                -0.553273   \n",
       "...                             ...                                      ...   \n",
       "5429                      -0.106553                                -0.992657   \n",
       "5430                      -0.100967                                -0.745760   \n",
       "5431                       0.036047                                -0.632870   \n",
       "5432                       0.032698                                -0.685942   \n",
       "5433                      -0.100967                                -0.745760   \n",
       "\n",
       "      Wearing Masks  \n",
       "0               0.0  \n",
       "1               0.0  \n",
       "2               0.0  \n",
       "3               0.0  \n",
       "4               0.0  \n",
       "...             ...  \n",
       "5429            0.0  \n",
       "5430            0.0  \n",
       "5431            0.0  \n",
       "5432            0.0  \n",
       "5433            0.0  \n",
       "\n",
       "[5434 rows x 19 columns]"
      ]
     },
     "execution_count": 14,
     "metadata": {},
     "output_type": "execute_result"
    }
   ],
   "source": [
    "XGBC_dfShap_temp"
   ]
  },
  {
   "cell_type": "code",
   "execution_count": 16,
   "id": "cc088980",
   "metadata": {
    "ExecuteTime": {
     "end_time": "2022-12-08T09:45:25.850398Z",
     "start_time": "2022-12-08T09:45:25.842821Z"
    }
   },
   "outputs": [
    {
     "data": {
      "text/plain": [
       "5434"
      ]
     },
     "execution_count": 16,
     "metadata": {},
     "output_type": "execute_result"
    }
   ],
   "source": [
    "len(sign_y)"
   ]
  },
  {
   "cell_type": "code",
   "execution_count": 20,
   "id": "24022edf",
   "metadata": {
    "ExecuteTime": {
     "end_time": "2022-12-08T09:47:49.228396Z",
     "start_time": "2022-12-08T09:47:49.220775Z"
    }
   },
   "outputs": [
    {
     "data": {
      "text/plain": [
       "array([1, 1, 1, ..., 0, 0, 0])"
      ]
     },
     "execution_count": 20,
     "metadata": {},
     "output_type": "execute_result"
    }
   ],
   "source": [
    "sign_y"
   ]
  },
  {
   "cell_type": "code",
   "execution_count": 17,
   "id": "b5757a37",
   "metadata": {
    "ExecuteTime": {
     "end_time": "2022-12-08T09:46:01.325932Z",
     "start_time": "2022-12-08T09:46:01.318964Z"
    }
   },
   "outputs": [],
   "source": [
    "XGBC_dfShap_temp['label'] = sign_y"
   ]
  },
  {
   "cell_type": "code",
   "execution_count": 21,
   "id": "83c76739",
   "metadata": {
    "ExecuteTime": {
     "end_time": "2022-12-08T09:47:55.786288Z",
     "start_time": "2022-12-08T09:47:55.777105Z"
    }
   },
   "outputs": [],
   "source": [
    "XGBC_dfShap_temp_pos = XGBC_dfShap_temp[XGBC_dfShap_temp['label']==1]"
   ]
  },
  {
   "cell_type": "code",
   "execution_count": 44,
   "id": "05dd5289",
   "metadata": {
    "ExecuteTime": {
     "end_time": "2022-12-08T10:01:15.270332Z",
     "start_time": "2022-12-08T10:01:15.263144Z"
    }
   },
   "outputs": [],
   "source": [
    "XGBC_dfShap_temp_neg = XGBC_dfShap_temp[XGBC_dfShap_temp['label']==0]"
   ]
  },
  {
   "cell_type": "code",
   "execution_count": 22,
   "id": "8b504814",
   "metadata": {
    "ExecuteTime": {
     "end_time": "2022-12-08T09:48:00.997531Z",
     "start_time": "2022-12-08T09:48:00.958215Z"
    }
   },
   "outputs": [
    {
     "data": {
      "text/html": [
       "<div>\n",
       "<style scoped>\n",
       "    .dataframe tbody tr th:only-of-type {\n",
       "        vertical-align: middle;\n",
       "    }\n",
       "\n",
       "    .dataframe tbody tr th {\n",
       "        vertical-align: top;\n",
       "    }\n",
       "\n",
       "    .dataframe thead th {\n",
       "        text-align: right;\n",
       "    }\n",
       "</style>\n",
       "<table border=\"1\" class=\"dataframe\">\n",
       "  <thead>\n",
       "    <tr style=\"text-align: right;\">\n",
       "      <th></th>\n",
       "      <th>Breathing Problem</th>\n",
       "      <th>Fever</th>\n",
       "      <th>Dry Cough</th>\n",
       "      <th>Sore throat</th>\n",
       "      <th>Running Nose</th>\n",
       "      <th>Asthma</th>\n",
       "      <th>Chronic Lung Disease</th>\n",
       "      <th>Headache</th>\n",
       "      <th>Heart Disease</th>\n",
       "      <th>Diabetes</th>\n",
       "      <th>Hyper Tension</th>\n",
       "      <th>Fatigue</th>\n",
       "      <th>Gastrointestinal</th>\n",
       "      <th>Abroad travel</th>\n",
       "      <th>Contact with COVID Patient</th>\n",
       "      <th>Attended Large Gathering</th>\n",
       "      <th>Visited Public Exposed Places</th>\n",
       "      <th>Family working in Public Exposed Places</th>\n",
       "      <th>Wearing Masks</th>\n",
       "      <th>label</th>\n",
       "    </tr>\n",
       "  </thead>\n",
       "  <tbody>\n",
       "    <tr>\n",
       "      <th>0</th>\n",
       "      <td>0.896573</td>\n",
       "      <td>0.633475</td>\n",
       "      <td>0.671194</td>\n",
       "      <td>0.739993</td>\n",
       "      <td>-0.241841</td>\n",
       "      <td>0.228861</td>\n",
       "      <td>-0.066498</td>\n",
       "      <td>0.055035</td>\n",
       "      <td>0.352905</td>\n",
       "      <td>0.360132</td>\n",
       "      <td>0.068703</td>\n",
       "      <td>-0.112743</td>\n",
       "      <td>0.076096</td>\n",
       "      <td>-0.966125</td>\n",
       "      <td>1.084288</td>\n",
       "      <td>-1.175722</td>\n",
       "      <td>-0.010479</td>\n",
       "      <td>1.079362</td>\n",
       "      <td>0.0</td>\n",
       "      <td>1</td>\n",
       "    </tr>\n",
       "    <tr>\n",
       "      <th>1</th>\n",
       "      <td>1.164092</td>\n",
       "      <td>0.619528</td>\n",
       "      <td>0.477567</td>\n",
       "      <td>0.553612</td>\n",
       "      <td>0.517164</td>\n",
       "      <td>0.132143</td>\n",
       "      <td>-0.000601</td>\n",
       "      <td>-0.017298</td>\n",
       "      <td>0.092658</td>\n",
       "      <td>-0.070783</td>\n",
       "      <td>0.297484</td>\n",
       "      <td>-0.028308</td>\n",
       "      <td>0.017217</td>\n",
       "      <td>-0.619645</td>\n",
       "      <td>-0.219501</td>\n",
       "      <td>2.138653</td>\n",
       "      <td>0.030599</td>\n",
       "      <td>-0.160031</td>\n",
       "      <td>0.0</td>\n",
       "      <td>1</td>\n",
       "    </tr>\n",
       "    <tr>\n",
       "      <th>2</th>\n",
       "      <td>0.890194</td>\n",
       "      <td>0.471624</td>\n",
       "      <td>0.565871</td>\n",
       "      <td>0.410680</td>\n",
       "      <td>-0.345459</td>\n",
       "      <td>-0.169352</td>\n",
       "      <td>0.069881</td>\n",
       "      <td>0.037141</td>\n",
       "      <td>0.011283</td>\n",
       "      <td>0.150048</td>\n",
       "      <td>0.170977</td>\n",
       "      <td>-0.042419</td>\n",
       "      <td>0.051941</td>\n",
       "      <td>2.745147</td>\n",
       "      <td>-0.313658</td>\n",
       "      <td>-0.964485</td>\n",
       "      <td>0.032844</td>\n",
       "      <td>-0.434014</td>\n",
       "      <td>0.0</td>\n",
       "      <td>1</td>\n",
       "    </tr>\n",
       "    <tr>\n",
       "      <th>3</th>\n",
       "      <td>0.840690</td>\n",
       "      <td>0.326465</td>\n",
       "      <td>0.432122</td>\n",
       "      <td>-1.164142</td>\n",
       "      <td>0.272832</td>\n",
       "      <td>0.182989</td>\n",
       "      <td>0.034890</td>\n",
       "      <td>-0.059914</td>\n",
       "      <td>-0.131512</td>\n",
       "      <td>0.127670</td>\n",
       "      <td>0.178232</td>\n",
       "      <td>0.009431</td>\n",
       "      <td>-0.007346</td>\n",
       "      <td>1.906693</td>\n",
       "      <td>-0.364323</td>\n",
       "      <td>1.586107</td>\n",
       "      <td>-0.014385</td>\n",
       "      <td>-0.156530</td>\n",
       "      <td>0.0</td>\n",
       "      <td>1</td>\n",
       "    </tr>\n",
       "    <tr>\n",
       "      <th>4</th>\n",
       "      <td>0.783881</td>\n",
       "      <td>0.474715</td>\n",
       "      <td>0.616392</td>\n",
       "      <td>0.623525</td>\n",
       "      <td>-0.411805</td>\n",
       "      <td>0.184230</td>\n",
       "      <td>0.293464</td>\n",
       "      <td>0.002865</td>\n",
       "      <td>-0.264756</td>\n",
       "      <td>0.319569</td>\n",
       "      <td>-0.245387</td>\n",
       "      <td>0.013857</td>\n",
       "      <td>0.225503</td>\n",
       "      <td>-1.159280</td>\n",
       "      <td>1.253397</td>\n",
       "      <td>-1.601364</td>\n",
       "      <td>0.124986</td>\n",
       "      <td>-0.553273</td>\n",
       "      <td>0.0</td>\n",
       "      <td>1</td>\n",
       "    </tr>\n",
       "    <tr>\n",
       "      <th>...</th>\n",
       "      <td>...</td>\n",
       "      <td>...</td>\n",
       "      <td>...</td>\n",
       "      <td>...</td>\n",
       "      <td>...</td>\n",
       "      <td>...</td>\n",
       "      <td>...</td>\n",
       "      <td>...</td>\n",
       "      <td>...</td>\n",
       "      <td>...</td>\n",
       "      <td>...</td>\n",
       "      <td>...</td>\n",
       "      <td>...</td>\n",
       "      <td>...</td>\n",
       "      <td>...</td>\n",
       "      <td>...</td>\n",
       "      <td>...</td>\n",
       "      <td>...</td>\n",
       "      <td>...</td>\n",
       "      <td>...</td>\n",
       "    </tr>\n",
       "    <tr>\n",
       "      <th>5426</th>\n",
       "      <td>1.577461</td>\n",
       "      <td>0.646450</td>\n",
       "      <td>0.713984</td>\n",
       "      <td>-1.790544</td>\n",
       "      <td>-0.723698</td>\n",
       "      <td>-0.146258</td>\n",
       "      <td>-0.077227</td>\n",
       "      <td>-0.132904</td>\n",
       "      <td>0.270022</td>\n",
       "      <td>0.166135</td>\n",
       "      <td>-0.301467</td>\n",
       "      <td>-0.061674</td>\n",
       "      <td>-0.317980</td>\n",
       "      <td>-2.096818</td>\n",
       "      <td>-0.882260</td>\n",
       "      <td>-2.404266</td>\n",
       "      <td>-0.100967</td>\n",
       "      <td>-0.745760</td>\n",
       "      <td>0.0</td>\n",
       "      <td>1</td>\n",
       "    </tr>\n",
       "    <tr>\n",
       "      <th>5427</th>\n",
       "      <td>1.499542</td>\n",
       "      <td>0.664811</td>\n",
       "      <td>0.615980</td>\n",
       "      <td>-1.874885</td>\n",
       "      <td>0.433157</td>\n",
       "      <td>-0.032545</td>\n",
       "      <td>0.017241</td>\n",
       "      <td>-0.315137</td>\n",
       "      <td>-0.663526</td>\n",
       "      <td>-0.132047</td>\n",
       "      <td>-0.150005</td>\n",
       "      <td>-0.012708</td>\n",
       "      <td>-0.392554</td>\n",
       "      <td>-2.088710</td>\n",
       "      <td>-0.929238</td>\n",
       "      <td>-2.381812</td>\n",
       "      <td>0.036047</td>\n",
       "      <td>-0.632870</td>\n",
       "      <td>0.0</td>\n",
       "      <td>1</td>\n",
       "    </tr>\n",
       "    <tr>\n",
       "      <th>5428</th>\n",
       "      <td>1.474495</td>\n",
       "      <td>0.721266</td>\n",
       "      <td>0.670233</td>\n",
       "      <td>-1.920654</td>\n",
       "      <td>-0.490332</td>\n",
       "      <td>-0.093656</td>\n",
       "      <td>-0.033893</td>\n",
       "      <td>0.093694</td>\n",
       "      <td>-0.248406</td>\n",
       "      <td>-0.094140</td>\n",
       "      <td>0.196351</td>\n",
       "      <td>0.016818</td>\n",
       "      <td>-0.425067</td>\n",
       "      <td>-2.107843</td>\n",
       "      <td>-0.872587</td>\n",
       "      <td>-2.466196</td>\n",
       "      <td>0.032698</td>\n",
       "      <td>-0.685942</td>\n",
       "      <td>0.0</td>\n",
       "      <td>1</td>\n",
       "    </tr>\n",
       "    <tr>\n",
       "      <th>5429</th>\n",
       "      <td>1.721259</td>\n",
       "      <td>0.458548</td>\n",
       "      <td>-2.345930</td>\n",
       "      <td>0.725785</td>\n",
       "      <td>-0.753009</td>\n",
       "      <td>-0.103050</td>\n",
       "      <td>0.194205</td>\n",
       "      <td>-0.172078</td>\n",
       "      <td>-0.046297</td>\n",
       "      <td>-0.021497</td>\n",
       "      <td>0.118694</td>\n",
       "      <td>-0.194591</td>\n",
       "      <td>-0.056182</td>\n",
       "      <td>-1.890075</td>\n",
       "      <td>-0.680469</td>\n",
       "      <td>-2.285292</td>\n",
       "      <td>-0.106553</td>\n",
       "      <td>-0.992657</td>\n",
       "      <td>0.0</td>\n",
       "      <td>1</td>\n",
       "    </tr>\n",
       "    <tr>\n",
       "      <th>5430</th>\n",
       "      <td>1.577461</td>\n",
       "      <td>0.646450</td>\n",
       "      <td>0.713984</td>\n",
       "      <td>-1.790544</td>\n",
       "      <td>-0.723698</td>\n",
       "      <td>-0.146258</td>\n",
       "      <td>-0.077227</td>\n",
       "      <td>-0.132904</td>\n",
       "      <td>0.270022</td>\n",
       "      <td>0.166135</td>\n",
       "      <td>-0.301467</td>\n",
       "      <td>-0.061674</td>\n",
       "      <td>-0.317980</td>\n",
       "      <td>-2.096818</td>\n",
       "      <td>-0.882260</td>\n",
       "      <td>-2.404266</td>\n",
       "      <td>-0.100967</td>\n",
       "      <td>-0.745760</td>\n",
       "      <td>0.0</td>\n",
       "      <td>1</td>\n",
       "    </tr>\n",
       "  </tbody>\n",
       "</table>\n",
       "<p>4383 rows × 20 columns</p>\n",
       "</div>"
      ],
      "text/plain": [
       "      Breathing Problem     Fever  Dry Cough  Sore throat  Running Nose  \\\n",
       "0              0.896573  0.633475   0.671194     0.739993     -0.241841   \n",
       "1              1.164092  0.619528   0.477567     0.553612      0.517164   \n",
       "2              0.890194  0.471624   0.565871     0.410680     -0.345459   \n",
       "3              0.840690  0.326465   0.432122    -1.164142      0.272832   \n",
       "4              0.783881  0.474715   0.616392     0.623525     -0.411805   \n",
       "...                 ...       ...        ...          ...           ...   \n",
       "5426           1.577461  0.646450   0.713984    -1.790544     -0.723698   \n",
       "5427           1.499542  0.664811   0.615980    -1.874885      0.433157   \n",
       "5428           1.474495  0.721266   0.670233    -1.920654     -0.490332   \n",
       "5429           1.721259  0.458548  -2.345930     0.725785     -0.753009   \n",
       "5430           1.577461  0.646450   0.713984    -1.790544     -0.723698   \n",
       "\n",
       "        Asthma  Chronic Lung Disease  Headache  Heart Disease  Diabetes  \\\n",
       "0     0.228861             -0.066498  0.055035       0.352905  0.360132   \n",
       "1     0.132143             -0.000601 -0.017298       0.092658 -0.070783   \n",
       "2    -0.169352              0.069881  0.037141       0.011283  0.150048   \n",
       "3     0.182989              0.034890 -0.059914      -0.131512  0.127670   \n",
       "4     0.184230              0.293464  0.002865      -0.264756  0.319569   \n",
       "...        ...                   ...       ...            ...       ...   \n",
       "5426 -0.146258             -0.077227 -0.132904       0.270022  0.166135   \n",
       "5427 -0.032545              0.017241 -0.315137      -0.663526 -0.132047   \n",
       "5428 -0.093656             -0.033893  0.093694      -0.248406 -0.094140   \n",
       "5429 -0.103050              0.194205 -0.172078      -0.046297 -0.021497   \n",
       "5430 -0.146258             -0.077227 -0.132904       0.270022  0.166135   \n",
       "\n",
       "      Hyper Tension  Fatigue   Gastrointestinal   Abroad travel  \\\n",
       "0          0.068703 -0.112743           0.076096      -0.966125   \n",
       "1          0.297484 -0.028308           0.017217      -0.619645   \n",
       "2          0.170977 -0.042419           0.051941       2.745147   \n",
       "3          0.178232  0.009431          -0.007346       1.906693   \n",
       "4         -0.245387  0.013857           0.225503      -1.159280   \n",
       "...             ...       ...                ...            ...   \n",
       "5426      -0.301467 -0.061674          -0.317980      -2.096818   \n",
       "5427      -0.150005 -0.012708          -0.392554      -2.088710   \n",
       "5428       0.196351  0.016818          -0.425067      -2.107843   \n",
       "5429       0.118694 -0.194591          -0.056182      -1.890075   \n",
       "5430      -0.301467 -0.061674          -0.317980      -2.096818   \n",
       "\n",
       "      Contact with COVID Patient  Attended Large Gathering  \\\n",
       "0                       1.084288                 -1.175722   \n",
       "1                      -0.219501                  2.138653   \n",
       "2                      -0.313658                 -0.964485   \n",
       "3                      -0.364323                  1.586107   \n",
       "4                       1.253397                 -1.601364   \n",
       "...                          ...                       ...   \n",
       "5426                   -0.882260                 -2.404266   \n",
       "5427                   -0.929238                 -2.381812   \n",
       "5428                   -0.872587                 -2.466196   \n",
       "5429                   -0.680469                 -2.285292   \n",
       "5430                   -0.882260                 -2.404266   \n",
       "\n",
       "      Visited Public Exposed Places  Family working in Public Exposed Places  \\\n",
       "0                         -0.010479                                 1.079362   \n",
       "1                          0.030599                                -0.160031   \n",
       "2                          0.032844                                -0.434014   \n",
       "3                         -0.014385                                -0.156530   \n",
       "4                          0.124986                                -0.553273   \n",
       "...                             ...                                      ...   \n",
       "5426                      -0.100967                                -0.745760   \n",
       "5427                       0.036047                                -0.632870   \n",
       "5428                       0.032698                                -0.685942   \n",
       "5429                      -0.106553                                -0.992657   \n",
       "5430                      -0.100967                                -0.745760   \n",
       "\n",
       "      Wearing Masks  label  \n",
       "0               0.0      1  \n",
       "1               0.0      1  \n",
       "2               0.0      1  \n",
       "3               0.0      1  \n",
       "4               0.0      1  \n",
       "...             ...    ...  \n",
       "5426            0.0      1  \n",
       "5427            0.0      1  \n",
       "5428            0.0      1  \n",
       "5429            0.0      1  \n",
       "5430            0.0      1  \n",
       "\n",
       "[4383 rows x 20 columns]"
      ]
     },
     "execution_count": 22,
     "metadata": {},
     "output_type": "execute_result"
    }
   ],
   "source": [
    "XGBC_dfShap_temp_pos"
   ]
  },
  {
   "cell_type": "code",
   "execution_count": 45,
   "id": "ed46adfe",
   "metadata": {
    "ExecuteTime": {
     "end_time": "2022-12-08T10:01:21.255397Z",
     "start_time": "2022-12-08T10:01:21.212848Z"
    }
   },
   "outputs": [
    {
     "data": {
      "text/html": [
       "<div>\n",
       "<style scoped>\n",
       "    .dataframe tbody tr th:only-of-type {\n",
       "        vertical-align: middle;\n",
       "    }\n",
       "\n",
       "    .dataframe tbody tr th {\n",
       "        vertical-align: top;\n",
       "    }\n",
       "\n",
       "    .dataframe thead th {\n",
       "        text-align: right;\n",
       "    }\n",
       "</style>\n",
       "<table border=\"1\" class=\"dataframe\">\n",
       "  <thead>\n",
       "    <tr style=\"text-align: right;\">\n",
       "      <th></th>\n",
       "      <th>Breathing Problem</th>\n",
       "      <th>Fever</th>\n",
       "      <th>Dry Cough</th>\n",
       "      <th>Sore throat</th>\n",
       "      <th>Running Nose</th>\n",
       "      <th>Asthma</th>\n",
       "      <th>Chronic Lung Disease</th>\n",
       "      <th>Headache</th>\n",
       "      <th>Heart Disease</th>\n",
       "      <th>Diabetes</th>\n",
       "      <th>Hyper Tension</th>\n",
       "      <th>Fatigue</th>\n",
       "      <th>Gastrointestinal</th>\n",
       "      <th>Abroad travel</th>\n",
       "      <th>Contact with COVID Patient</th>\n",
       "      <th>Attended Large Gathering</th>\n",
       "      <th>Visited Public Exposed Places</th>\n",
       "      <th>Family working in Public Exposed Places</th>\n",
       "      <th>Wearing Masks</th>\n",
       "      <th>label</th>\n",
       "    </tr>\n",
       "  </thead>\n",
       "  <tbody>\n",
       "    <tr>\n",
       "      <th>4075</th>\n",
       "      <td>-3.660512</td>\n",
       "      <td>-1.748721</td>\n",
       "      <td>-3.520156</td>\n",
       "      <td>-2.729777</td>\n",
       "      <td>-0.105522</td>\n",
       "      <td>-0.040785</td>\n",
       "      <td>0.035919</td>\n",
       "      <td>-0.021819</td>\n",
       "      <td>-0.114504</td>\n",
       "      <td>-0.198070</td>\n",
       "      <td>0.008353</td>\n",
       "      <td>-0.021400</td>\n",
       "      <td>-0.087434</td>\n",
       "      <td>-2.654518</td>\n",
       "      <td>-1.242732</td>\n",
       "      <td>2.667645</td>\n",
       "      <td>-0.053784</td>\n",
       "      <td>0.384126</td>\n",
       "      <td>0.0</td>\n",
       "      <td>0</td>\n",
       "    </tr>\n",
       "    <tr>\n",
       "      <th>4076</th>\n",
       "      <td>-3.312165</td>\n",
       "      <td>-1.166116</td>\n",
       "      <td>-3.670128</td>\n",
       "      <td>-3.338204</td>\n",
       "      <td>-0.051003</td>\n",
       "      <td>0.018574</td>\n",
       "      <td>-0.002231</td>\n",
       "      <td>0.039129</td>\n",
       "      <td>0.001990</td>\n",
       "      <td>-0.306898</td>\n",
       "      <td>0.021046</td>\n",
       "      <td>-0.074120</td>\n",
       "      <td>-0.069898</td>\n",
       "      <td>-2.291873</td>\n",
       "      <td>1.351695</td>\n",
       "      <td>2.576585</td>\n",
       "      <td>0.062791</td>\n",
       "      <td>0.458881</td>\n",
       "      <td>0.0</td>\n",
       "      <td>0</td>\n",
       "    </tr>\n",
       "    <tr>\n",
       "      <th>4077</th>\n",
       "      <td>-2.783806</td>\n",
       "      <td>-1.608614</td>\n",
       "      <td>-2.112466</td>\n",
       "      <td>-2.777505</td>\n",
       "      <td>-0.137944</td>\n",
       "      <td>-0.054752</td>\n",
       "      <td>0.090778</td>\n",
       "      <td>0.001788</td>\n",
       "      <td>0.133931</td>\n",
       "      <td>-0.062186</td>\n",
       "      <td>0.036081</td>\n",
       "      <td>-0.018648</td>\n",
       "      <td>-0.097269</td>\n",
       "      <td>-3.434543</td>\n",
       "      <td>-1.305501</td>\n",
       "      <td>-2.248247</td>\n",
       "      <td>-0.109663</td>\n",
       "      <td>0.494089</td>\n",
       "      <td>0.0</td>\n",
       "      <td>0</td>\n",
       "    </tr>\n",
       "    <tr>\n",
       "      <th>4078</th>\n",
       "      <td>-3.514844</td>\n",
       "      <td>-1.565655</td>\n",
       "      <td>-3.433388</td>\n",
       "      <td>-2.747903</td>\n",
       "      <td>-0.148511</td>\n",
       "      <td>0.106978</td>\n",
       "      <td>0.028000</td>\n",
       "      <td>-0.012476</td>\n",
       "      <td>0.146378</td>\n",
       "      <td>0.263974</td>\n",
       "      <td>0.072973</td>\n",
       "      <td>0.059287</td>\n",
       "      <td>-0.064592</td>\n",
       "      <td>-2.538927</td>\n",
       "      <td>-1.041500</td>\n",
       "      <td>2.833531</td>\n",
       "      <td>0.013781</td>\n",
       "      <td>-0.267014</td>\n",
       "      <td>0.0</td>\n",
       "      <td>0</td>\n",
       "    </tr>\n",
       "    <tr>\n",
       "      <th>4079</th>\n",
       "      <td>-3.439304</td>\n",
       "      <td>-1.562068</td>\n",
       "      <td>-2.263699</td>\n",
       "      <td>-2.752251</td>\n",
       "      <td>-0.149930</td>\n",
       "      <td>-0.041502</td>\n",
       "      <td>0.058427</td>\n",
       "      <td>0.041684</td>\n",
       "      <td>0.189782</td>\n",
       "      <td>0.135114</td>\n",
       "      <td>0.005896</td>\n",
       "      <td>-0.014288</td>\n",
       "      <td>0.140072</td>\n",
       "      <td>-3.373840</td>\n",
       "      <td>-1.243903</td>\n",
       "      <td>-2.327426</td>\n",
       "      <td>0.149998</td>\n",
       "      <td>0.674410</td>\n",
       "      <td>0.0</td>\n",
       "      <td>0</td>\n",
       "    </tr>\n",
       "    <tr>\n",
       "      <th>...</th>\n",
       "      <td>...</td>\n",
       "      <td>...</td>\n",
       "      <td>...</td>\n",
       "      <td>...</td>\n",
       "      <td>...</td>\n",
       "      <td>...</td>\n",
       "      <td>...</td>\n",
       "      <td>...</td>\n",
       "      <td>...</td>\n",
       "      <td>...</td>\n",
       "      <td>...</td>\n",
       "      <td>...</td>\n",
       "      <td>...</td>\n",
       "      <td>...</td>\n",
       "      <td>...</td>\n",
       "      <td>...</td>\n",
       "      <td>...</td>\n",
       "      <td>...</td>\n",
       "      <td>...</td>\n",
       "      <td>...</td>\n",
       "    </tr>\n",
       "    <tr>\n",
       "      <th>5121</th>\n",
       "      <td>0.404483</td>\n",
       "      <td>0.384614</td>\n",
       "      <td>0.532136</td>\n",
       "      <td>0.610262</td>\n",
       "      <td>-0.584929</td>\n",
       "      <td>-0.305819</td>\n",
       "      <td>-0.439205</td>\n",
       "      <td>0.018809</td>\n",
       "      <td>-0.214465</td>\n",
       "      <td>-0.275847</td>\n",
       "      <td>-0.357387</td>\n",
       "      <td>-0.427796</td>\n",
       "      <td>-0.073597</td>\n",
       "      <td>-1.755810</td>\n",
       "      <td>0.386480</td>\n",
       "      <td>-2.056902</td>\n",
       "      <td>-0.333583</td>\n",
       "      <td>-1.077194</td>\n",
       "      <td>0.0</td>\n",
       "      <td>0</td>\n",
       "    </tr>\n",
       "    <tr>\n",
       "      <th>5122</th>\n",
       "      <td>-3.343851</td>\n",
       "      <td>-1.727220</td>\n",
       "      <td>0.621207</td>\n",
       "      <td>-3.239138</td>\n",
       "      <td>0.164652</td>\n",
       "      <td>0.000273</td>\n",
       "      <td>-0.036881</td>\n",
       "      <td>-0.012979</td>\n",
       "      <td>0.019164</td>\n",
       "      <td>-0.296112</td>\n",
       "      <td>-0.030673</td>\n",
       "      <td>0.027107</td>\n",
       "      <td>-0.052682</td>\n",
       "      <td>-2.794489</td>\n",
       "      <td>1.350677</td>\n",
       "      <td>-2.949997</td>\n",
       "      <td>-0.146989</td>\n",
       "      <td>-0.340964</td>\n",
       "      <td>0.0</td>\n",
       "      <td>0</td>\n",
       "    </tr>\n",
       "    <tr>\n",
       "      <th>5431</th>\n",
       "      <td>1.499542</td>\n",
       "      <td>0.664811</td>\n",
       "      <td>0.615980</td>\n",
       "      <td>-1.874885</td>\n",
       "      <td>0.433157</td>\n",
       "      <td>-0.032545</td>\n",
       "      <td>0.017241</td>\n",
       "      <td>-0.315137</td>\n",
       "      <td>-0.663526</td>\n",
       "      <td>-0.132047</td>\n",
       "      <td>-0.150005</td>\n",
       "      <td>-0.012708</td>\n",
       "      <td>-0.392554</td>\n",
       "      <td>-2.088710</td>\n",
       "      <td>-0.929238</td>\n",
       "      <td>-2.381812</td>\n",
       "      <td>0.036047</td>\n",
       "      <td>-0.632870</td>\n",
       "      <td>0.0</td>\n",
       "      <td>0</td>\n",
       "    </tr>\n",
       "    <tr>\n",
       "      <th>5432</th>\n",
       "      <td>1.474495</td>\n",
       "      <td>0.721266</td>\n",
       "      <td>0.670233</td>\n",
       "      <td>-1.920654</td>\n",
       "      <td>-0.490332</td>\n",
       "      <td>-0.093656</td>\n",
       "      <td>-0.033893</td>\n",
       "      <td>0.093694</td>\n",
       "      <td>-0.248406</td>\n",
       "      <td>-0.094140</td>\n",
       "      <td>0.196351</td>\n",
       "      <td>0.016818</td>\n",
       "      <td>-0.425067</td>\n",
       "      <td>-2.107843</td>\n",
       "      <td>-0.872587</td>\n",
       "      <td>-2.466196</td>\n",
       "      <td>0.032698</td>\n",
       "      <td>-0.685942</td>\n",
       "      <td>0.0</td>\n",
       "      <td>0</td>\n",
       "    </tr>\n",
       "    <tr>\n",
       "      <th>5433</th>\n",
       "      <td>1.577461</td>\n",
       "      <td>0.646450</td>\n",
       "      <td>0.713984</td>\n",
       "      <td>-1.790544</td>\n",
       "      <td>-0.723698</td>\n",
       "      <td>-0.146258</td>\n",
       "      <td>-0.077227</td>\n",
       "      <td>-0.132904</td>\n",
       "      <td>0.270022</td>\n",
       "      <td>0.166135</td>\n",
       "      <td>-0.301467</td>\n",
       "      <td>-0.061674</td>\n",
       "      <td>-0.317980</td>\n",
       "      <td>-2.096818</td>\n",
       "      <td>-0.882260</td>\n",
       "      <td>-2.404266</td>\n",
       "      <td>-0.100967</td>\n",
       "      <td>-0.745760</td>\n",
       "      <td>0.0</td>\n",
       "      <td>0</td>\n",
       "    </tr>\n",
       "  </tbody>\n",
       "</table>\n",
       "<p>1051 rows × 20 columns</p>\n",
       "</div>"
      ],
      "text/plain": [
       "      Breathing Problem     Fever  Dry Cough  Sore throat  Running Nose  \\\n",
       "4075          -3.660512 -1.748721  -3.520156    -2.729777     -0.105522   \n",
       "4076          -3.312165 -1.166116  -3.670128    -3.338204     -0.051003   \n",
       "4077          -2.783806 -1.608614  -2.112466    -2.777505     -0.137944   \n",
       "4078          -3.514844 -1.565655  -3.433388    -2.747903     -0.148511   \n",
       "4079          -3.439304 -1.562068  -2.263699    -2.752251     -0.149930   \n",
       "...                 ...       ...        ...          ...           ...   \n",
       "5121           0.404483  0.384614   0.532136     0.610262     -0.584929   \n",
       "5122          -3.343851 -1.727220   0.621207    -3.239138      0.164652   \n",
       "5431           1.499542  0.664811   0.615980    -1.874885      0.433157   \n",
       "5432           1.474495  0.721266   0.670233    -1.920654     -0.490332   \n",
       "5433           1.577461  0.646450   0.713984    -1.790544     -0.723698   \n",
       "\n",
       "        Asthma  Chronic Lung Disease  Headache  Heart Disease  Diabetes  \\\n",
       "4075 -0.040785              0.035919 -0.021819      -0.114504 -0.198070   \n",
       "4076  0.018574             -0.002231  0.039129       0.001990 -0.306898   \n",
       "4077 -0.054752              0.090778  0.001788       0.133931 -0.062186   \n",
       "4078  0.106978              0.028000 -0.012476       0.146378  0.263974   \n",
       "4079 -0.041502              0.058427  0.041684       0.189782  0.135114   \n",
       "...        ...                   ...       ...            ...       ...   \n",
       "5121 -0.305819             -0.439205  0.018809      -0.214465 -0.275847   \n",
       "5122  0.000273             -0.036881 -0.012979       0.019164 -0.296112   \n",
       "5431 -0.032545              0.017241 -0.315137      -0.663526 -0.132047   \n",
       "5432 -0.093656             -0.033893  0.093694      -0.248406 -0.094140   \n",
       "5433 -0.146258             -0.077227 -0.132904       0.270022  0.166135   \n",
       "\n",
       "      Hyper Tension  Fatigue   Gastrointestinal   Abroad travel  \\\n",
       "4075       0.008353 -0.021400          -0.087434      -2.654518   \n",
       "4076       0.021046 -0.074120          -0.069898      -2.291873   \n",
       "4077       0.036081 -0.018648          -0.097269      -3.434543   \n",
       "4078       0.072973  0.059287          -0.064592      -2.538927   \n",
       "4079       0.005896 -0.014288           0.140072      -3.373840   \n",
       "...             ...       ...                ...            ...   \n",
       "5121      -0.357387 -0.427796          -0.073597      -1.755810   \n",
       "5122      -0.030673  0.027107          -0.052682      -2.794489   \n",
       "5431      -0.150005 -0.012708          -0.392554      -2.088710   \n",
       "5432       0.196351  0.016818          -0.425067      -2.107843   \n",
       "5433      -0.301467 -0.061674          -0.317980      -2.096818   \n",
       "\n",
       "      Contact with COVID Patient  Attended Large Gathering  \\\n",
       "4075                   -1.242732                  2.667645   \n",
       "4076                    1.351695                  2.576585   \n",
       "4077                   -1.305501                 -2.248247   \n",
       "4078                   -1.041500                  2.833531   \n",
       "4079                   -1.243903                 -2.327426   \n",
       "...                          ...                       ...   \n",
       "5121                    0.386480                 -2.056902   \n",
       "5122                    1.350677                 -2.949997   \n",
       "5431                   -0.929238                 -2.381812   \n",
       "5432                   -0.872587                 -2.466196   \n",
       "5433                   -0.882260                 -2.404266   \n",
       "\n",
       "      Visited Public Exposed Places  Family working in Public Exposed Places  \\\n",
       "4075                      -0.053784                                 0.384126   \n",
       "4076                       0.062791                                 0.458881   \n",
       "4077                      -0.109663                                 0.494089   \n",
       "4078                       0.013781                                -0.267014   \n",
       "4079                       0.149998                                 0.674410   \n",
       "...                             ...                                      ...   \n",
       "5121                      -0.333583                                -1.077194   \n",
       "5122                      -0.146989                                -0.340964   \n",
       "5431                       0.036047                                -0.632870   \n",
       "5432                       0.032698                                -0.685942   \n",
       "5433                      -0.100967                                -0.745760   \n",
       "\n",
       "      Wearing Masks  label  \n",
       "4075            0.0      0  \n",
       "4076            0.0      0  \n",
       "4077            0.0      0  \n",
       "4078            0.0      0  \n",
       "4079            0.0      0  \n",
       "...             ...    ...  \n",
       "5121            0.0      0  \n",
       "5122            0.0      0  \n",
       "5431            0.0      0  \n",
       "5432            0.0      0  \n",
       "5433            0.0      0  \n",
       "\n",
       "[1051 rows x 20 columns]"
      ]
     },
     "execution_count": 45,
     "metadata": {},
     "output_type": "execute_result"
    }
   ],
   "source": [
    "XGBC_dfShap_temp_neg"
   ]
  },
  {
   "cell_type": "code",
   "execution_count": 24,
   "id": "640e7a85",
   "metadata": {
    "ExecuteTime": {
     "end_time": "2022-12-08T09:52:46.132188Z",
     "start_time": "2022-12-08T09:51:16.843554Z"
    }
   },
   "outputs": [
    {
     "data": {
      "text/plain": [
       "Text(0, 0.5, 'Distance')"
      ]
     },
     "execution_count": 24,
     "metadata": {},
     "output_type": "execute_result"
    },
    {
     "data": {
      "image/png": "[encoded data removed]",
      "text/plain": [
       "<Figure size 576x576 with 1 Axes>"
      ]
     },
     "metadata": {
      "needs_background": "light"
     },
     "output_type": "display_data"
    }
   ],
   "source": [
    "clusters = hierarchy.linkage(XGBC_dfShap_temp_pos, method=\"ward\")\n",
    "plt.figure(figsize=(8, 8))\n",
    "dendrogram = hierarchy.dendrogram(clusters)\n",
    "plt.axhline(60, color='crimson');\n",
    "plt.xlabel(\"Number of Cluster\", labelpad=15, weight='bold', size=14)\n",
    "plt.ylabel(\"Distance\", labelpad=15, weight='bold', size=14)"
   ]
  },
  {
   "cell_type": "code",
   "execution_count": 25,
   "id": "c9d45ac4",
   "metadata": {
    "ExecuteTime": {
     "end_time": "2022-12-08T09:52:46.483094Z",
     "start_time": "2022-12-08T09:52:46.134496Z"
    }
   },
   "outputs": [
    {
     "name": "stderr",
     "output_type": "stream",
     "text": [
      "\n",
      "A value is trying to be set on a copy of a slice from a DataFrame.\n",
      "Try using .loc[row_indexer,col_indexer] = value instead\n",
      "\n",
      "See the caveats in the documentation: https://pandas.pydata.org/pandas-docs/stable/user_guide/indexing.html#returning-a-view-versus-a-copy\n"
     ]
    }
   ],
   "source": [
    "clustering_model = AgglomerativeClustering(n_clusters=4, linkage=\"ward\")\n",
    "clustering_model.fit(XGBC_dfShap_temp_pos)\n",
    "labels = clustering_model.labels_\n",
    "\n",
    "XGBC_dfShap_temp_pos['CLUSTER'] = labels"
   ]
  },
  {
   "cell_type": "code",
   "execution_count": 26,
   "id": "efdb2d2b",
   "metadata": {
    "ExecuteTime": {
     "end_time": "2022-12-08T09:52:46.489941Z",
     "start_time": "2022-12-08T09:52:46.485266Z"
    }
   },
   "outputs": [
    {
     "data": {
      "text/plain": [
       "array([2, 0, 1, 3])"
      ]
     },
     "execution_count": 26,
     "metadata": {},
     "output_type": "execute_result"
    }
   ],
   "source": [
    "XGBC_dfShap_temp_pos['CLUSTER'].unique()"
   ]
  },
  {
   "cell_type": "code",
   "execution_count": 31,
   "id": "d39b4e71",
   "metadata": {
    "ExecuteTime": {
     "end_time": "2022-12-08T09:54:58.114704Z",
     "start_time": "2022-12-08T09:54:58.104303Z"
    }
   },
   "outputs": [
    {
     "data": {
      "text/plain": [
       "1157"
      ]
     },
     "execution_count": 31,
     "metadata": {},
     "output_type": "execute_result"
    }
   ],
   "source": [
    "len(XGBC_dfShap_temp_pos[XGBC_dfShap_temp_pos['CLUSTER']==0])"
   ]
  },
  {
   "cell_type": "code",
   "execution_count": 28,
   "id": "63fc9bd7",
   "metadata": {
    "ExecuteTime": {
     "end_time": "2022-12-08T09:54:46.838927Z",
     "start_time": "2022-12-08T09:54:46.828764Z"
    }
   },
   "outputs": [
    {
     "data": {
      "text/plain": [
       "1166"
      ]
     },
     "execution_count": 28,
     "metadata": {},
     "output_type": "execute_result"
    }
   ],
   "source": [
    "len(XGBC_dfShap_temp_pos[XGBC_dfShap_temp_pos['CLUSTER']==1])"
   ]
  },
  {
   "cell_type": "code",
   "execution_count": 29,
   "id": "9a100192",
   "metadata": {
    "ExecuteTime": {
     "end_time": "2022-12-08T09:54:49.578090Z",
     "start_time": "2022-12-08T09:54:49.568299Z"
    }
   },
   "outputs": [
    {
     "data": {
      "text/plain": [
       "775"
      ]
     },
     "execution_count": 29,
     "metadata": {},
     "output_type": "execute_result"
    }
   ],
   "source": [
    "len(XGBC_dfShap_temp_pos[XGBC_dfShap_temp_pos['CLUSTER']==2])"
   ]
  },
  {
   "cell_type": "code",
   "execution_count": 30,
   "id": "e277f34a",
   "metadata": {
    "ExecuteTime": {
     "end_time": "2022-12-08T09:54:54.675519Z",
     "start_time": "2022-12-08T09:54:54.665361Z"
    }
   },
   "outputs": [
    {
     "data": {
      "text/plain": [
       "1285"
      ]
     },
     "execution_count": 30,
     "metadata": {},
     "output_type": "execute_result"
    }
   ],
   "source": [
    "len(XGBC_dfShap_temp_pos[XGBC_dfShap_temp_pos['CLUSTER']==3])"
   ]
  },
  {
   "cell_type": "code",
   "execution_count": 35,
   "id": "d4ae19bd",
   "metadata": {
    "ExecuteTime": {
     "end_time": "2022-12-08T09:57:19.745195Z",
     "start_time": "2022-12-08T09:57:19.736507Z"
    }
   },
   "outputs": [
    {
     "data": {
      "text/plain": [
       "Index(['Breathing Problem', 'Fever', 'Dry Cough', 'Sore throat',\n",
       "       'Running Nose', 'Asthma', 'Chronic Lung Disease', 'Headache',\n",
       "       'Heart Disease', 'Diabetes', 'Hyper Tension', 'Fatigue ',\n",
       "       'Gastrointestinal ', 'Abroad travel', 'Contact with COVID Patient',\n",
       "       'Attended Large Gathering', 'Visited Public Exposed Places',\n",
       "       'Family working in Public Exposed Places', 'Wearing Masks', 'label',\n",
       "       'CLUSTER'],\n",
       "      dtype='object')"
      ]
     },
     "execution_count": 35,
     "metadata": {},
     "output_type": "execute_result"
    }
   ],
   "source": [
    "XGBC_dfShap_temp_pos.columns"
   ]
  },
  {
   "cell_type": "code",
   "execution_count": 34,
   "id": "07f50d98",
   "metadata": {
    "ExecuteTime": {
     "end_time": "2022-12-08T09:57:05.589761Z",
     "start_time": "2022-12-08T09:57:05.571546Z"
    }
   },
   "outputs": [
    {
     "data": {
      "text/plain": [
       "count    1157.000000\n",
       "mean        0.632705\n",
       "std         0.953516\n",
       "min        -3.044397\n",
       "25%         0.725470\n",
       "50%         0.806455\n",
       "75%         1.180029\n",
       "max         2.111614\n",
       "Name: Breathing Problem, dtype: float64"
      ]
     },
     "execution_count": 34,
     "metadata": {},
     "output_type": "execute_result"
    }
   ],
   "source": [
    "XGBC_dfShap_temp_pos[XGBC_dfShap_temp_pos['CLUSTER']==0]['Breathing Problem'].describe()"
   ]
  },
  {
   "cell_type": "code",
   "execution_count": 37,
   "id": "9927dc73",
   "metadata": {
    "ExecuteTime": {
     "end_time": "2022-12-08T09:57:33.975009Z",
     "start_time": "2022-12-08T09:57:33.957914Z"
    }
   },
   "outputs": [
    {
     "data": {
      "text/plain": [
       "count    1157.000000\n",
       "mean        0.242695\n",
       "std         0.586283\n",
       "min        -1.756734\n",
       "25%         0.330885\n",
       "50%         0.407588\n",
       "75%         0.552973\n",
       "max         0.959354\n",
       "Name: Fever, dtype: float64"
      ]
     },
     "execution_count": 37,
     "metadata": {},
     "output_type": "execute_result"
    }
   ],
   "source": [
    "XGBC_dfShap_temp_pos[XGBC_dfShap_temp_pos['CLUSTER']==0]['Fever'].describe()"
   ]
  }
 ],
 "metadata": {
  "kernelspec": {
   "display_name": "Python 3",
   "language": "python",
   "name": "python3"
  },
  "language_info": {
   "codemirror_mode": {
    "name": "ipython",
    "version": 3
   },
   "file_extension": ".py",
   "mimetype": "text/x-python",
   "name": "python",
   "nbconvert_exporter": "python",
   "pygments_lexer": "ipython3",
   "version": "3.8.10"
  },
  "toc": {
   "base_numbering": 1,
   "nav_menu": {},
   "number_sections": false,
   "sideBar": true,
   "skip_h1_title": false,
   "title_cell": "Table of Contents",
   "title_sidebar": "Contents",
   "toc_cell": false,
   "toc_position": {},
   "toc_section_display": true,
   "toc_window_display": false
  }
 },
 "nbformat": 4,
 "nbformat_minor": 5
}
